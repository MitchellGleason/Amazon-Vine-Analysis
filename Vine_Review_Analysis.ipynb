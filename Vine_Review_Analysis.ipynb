{
 "cells": [
  {
   "cell_type": "code",
   "execution_count": 1,
   "metadata": {},
   "outputs": [],
   "source": [
    "#Import dependencies\n",
    "import pandas as pd"
   ]
  },
  {
   "cell_type": "code",
   "execution_count": 2,
   "metadata": {},
   "outputs": [],
   "source": [
    "#Read in the data\n",
    "df = pd.read_csv(\"vine_table.csv\")"
   ]
  },
  {
   "cell_type": "code",
   "execution_count": 3,
   "metadata": {},
   "outputs": [],
   "source": [
    "#Create a dataframe with total_votes greater than or equal to 20\n",
    "total_votes_20 = df[df[\"total_votes\"] >= 20]"
   ]
  },
  {
   "cell_type": "code",
   "execution_count": 5,
   "metadata": {},
   "outputs": [],
   "source": [
    "#Create a dataframe with helpful_votes greater than or equal to 50%\n",
    "helpful_votes_50 = total_votes_20[total_votes_20[\"helpful_votes\"]/total_votes_20[\"total_votes\"] >= 0.5]"
   ]
  },
  {
   "cell_type": "code",
   "execution_count": 12,
   "metadata": {},
   "outputs": [
    {
     "data": {
      "text/html": [
       "<div>\n",
       "<style scoped>\n",
       "    .dataframe tbody tr th:only-of-type {\n",
       "        vertical-align: middle;\n",
       "    }\n",
       "\n",
       "    .dataframe tbody tr th {\n",
       "        vertical-align: top;\n",
       "    }\n",
       "\n",
       "    .dataframe thead th {\n",
       "        text-align: right;\n",
       "    }\n",
       "</style>\n",
       "<table border=\"1\" class=\"dataframe\">\n",
       "  <thead>\n",
       "    <tr style=\"text-align: right;\">\n",
       "      <th></th>\n",
       "      <th>review_id</th>\n",
       "      <th>star_rating</th>\n",
       "      <th>helpful_votes</th>\n",
       "      <th>total_votes</th>\n",
       "      <th>vine</th>\n",
       "      <th>verified_purchase</th>\n",
       "    </tr>\n",
       "  </thead>\n",
       "  <tbody>\n",
       "    <tr>\n",
       "      <th>319</th>\n",
       "      <td>R1S0N56H5B9SUX</td>\n",
       "      <td>5.0</td>\n",
       "      <td>30.0</td>\n",
       "      <td>30.0</td>\n",
       "      <td>N</td>\n",
       "      <td>Y</td>\n",
       "    </tr>\n",
       "    <tr>\n",
       "      <th>5683</th>\n",
       "      <td>RCDI7Z8VCZJI9</td>\n",
       "      <td>4.0</td>\n",
       "      <td>40.0</td>\n",
       "      <td>43.0</td>\n",
       "      <td>N</td>\n",
       "      <td>N</td>\n",
       "    </tr>\n",
       "    <tr>\n",
       "      <th>9260</th>\n",
       "      <td>R2LWBYC8TEUVF2</td>\n",
       "      <td>5.0</td>\n",
       "      <td>50.0</td>\n",
       "      <td>53.0</td>\n",
       "      <td>N</td>\n",
       "      <td>Y</td>\n",
       "    </tr>\n",
       "    <tr>\n",
       "      <th>9508</th>\n",
       "      <td>R23E4EIJXID5IC</td>\n",
       "      <td>5.0</td>\n",
       "      <td>43.0</td>\n",
       "      <td>43.0</td>\n",
       "      <td>N</td>\n",
       "      <td>N</td>\n",
       "    </tr>\n",
       "    <tr>\n",
       "      <th>10064</th>\n",
       "      <td>R1WFSWDT8L5RSJ</td>\n",
       "      <td>4.0</td>\n",
       "      <td>23.0</td>\n",
       "      <td>26.0</td>\n",
       "      <td>N</td>\n",
       "      <td>N</td>\n",
       "    </tr>\n",
       "    <tr>\n",
       "      <th>...</th>\n",
       "      <td>...</td>\n",
       "      <td>...</td>\n",
       "      <td>...</td>\n",
       "      <td>...</td>\n",
       "      <td>...</td>\n",
       "      <td>...</td>\n",
       "    </tr>\n",
       "    <tr>\n",
       "      <th>1688463</th>\n",
       "      <td>R29XFIQHBRZI5M</td>\n",
       "      <td>5.0</td>\n",
       "      <td>19.0</td>\n",
       "      <td>20.0</td>\n",
       "      <td>N</td>\n",
       "      <td>Y</td>\n",
       "    </tr>\n",
       "    <tr>\n",
       "      <th>1688654</th>\n",
       "      <td>R37GT7I6AFE9E</td>\n",
       "      <td>5.0</td>\n",
       "      <td>15.0</td>\n",
       "      <td>21.0</td>\n",
       "      <td>N</td>\n",
       "      <td>Y</td>\n",
       "    </tr>\n",
       "    <tr>\n",
       "      <th>1688668</th>\n",
       "      <td>R2L1OTCLWU32OP</td>\n",
       "      <td>5.0</td>\n",
       "      <td>22.0</td>\n",
       "      <td>26.0</td>\n",
       "      <td>N</td>\n",
       "      <td>Y</td>\n",
       "    </tr>\n",
       "    <tr>\n",
       "      <th>1688697</th>\n",
       "      <td>R2C9ZB6UN5S4IU</td>\n",
       "      <td>5.0</td>\n",
       "      <td>57.0</td>\n",
       "      <td>58.0</td>\n",
       "      <td>N</td>\n",
       "      <td>Y</td>\n",
       "    </tr>\n",
       "    <tr>\n",
       "      <th>1688733</th>\n",
       "      <td>R1O9L27PR8CYMN</td>\n",
       "      <td>5.0</td>\n",
       "      <td>24.0</td>\n",
       "      <td>28.0</td>\n",
       "      <td>N</td>\n",
       "      <td>N</td>\n",
       "    </tr>\n",
       "  </tbody>\n",
       "</table>\n",
       "<p>4532 rows × 6 columns</p>\n",
       "</div>"
      ],
      "text/plain": [
       "              review_id  star_rating  helpful_votes  total_votes vine  \\\n",
       "319      R1S0N56H5B9SUX          5.0           30.0         30.0    N   \n",
       "5683      RCDI7Z8VCZJI9          4.0           40.0         43.0    N   \n",
       "9260     R2LWBYC8TEUVF2          5.0           50.0         53.0    N   \n",
       "9508     R23E4EIJXID5IC          5.0           43.0         43.0    N   \n",
       "10064    R1WFSWDT8L5RSJ          4.0           23.0         26.0    N   \n",
       "...                 ...          ...            ...          ...  ...   \n",
       "1688463  R29XFIQHBRZI5M          5.0           19.0         20.0    N   \n",
       "1688654   R37GT7I6AFE9E          5.0           15.0         21.0    N   \n",
       "1688668  R2L1OTCLWU32OP          5.0           22.0         26.0    N   \n",
       "1688697  R2C9ZB6UN5S4IU          5.0           57.0         58.0    N   \n",
       "1688733  R1O9L27PR8CYMN          5.0           24.0         28.0    N   \n",
       "\n",
       "        verified_purchase  \n",
       "319                     Y  \n",
       "5683                    N  \n",
       "9260                    Y  \n",
       "9508                    N  \n",
       "10064                   N  \n",
       "...                   ...  \n",
       "1688463                 Y  \n",
       "1688654                 Y  \n",
       "1688668                 Y  \n",
       "1688697                 Y  \n",
       "1688733                 N  \n",
       "\n",
       "[4532 rows x 6 columns]"
      ]
     },
     "execution_count": 12,
     "metadata": {},
     "output_type": "execute_result"
    }
   ],
   "source": [
    "helpful_votes_50"
   ]
  },
  {
   "cell_type": "code",
   "execution_count": 7,
   "metadata": {},
   "outputs": [],
   "source": [
    "#Create a dataframe with paid vine reviews\n",
    "vine_paid = helpful_votes_50[helpful_votes_50[\"vine\"] == \"Y\"]"
   ]
  },
  {
   "cell_type": "code",
   "execution_count": 11,
   "metadata": {},
   "outputs": [
    {
     "data": {
      "text/html": [
       "<div>\n",
       "<style scoped>\n",
       "    .dataframe tbody tr th:only-of-type {\n",
       "        vertical-align: middle;\n",
       "    }\n",
       "\n",
       "    .dataframe tbody tr th {\n",
       "        vertical-align: top;\n",
       "    }\n",
       "\n",
       "    .dataframe thead th {\n",
       "        text-align: right;\n",
       "    }\n",
       "</style>\n",
       "<table border=\"1\" class=\"dataframe\">\n",
       "  <thead>\n",
       "    <tr style=\"text-align: right;\">\n",
       "      <th></th>\n",
       "      <th>review_id</th>\n",
       "      <th>star_rating</th>\n",
       "      <th>helpful_votes</th>\n",
       "      <th>total_votes</th>\n",
       "      <th>vine</th>\n",
       "      <th>verified_purchase</th>\n",
       "    </tr>\n",
       "  </thead>\n",
       "  <tbody>\n",
       "  </tbody>\n",
       "</table>\n",
       "</div>"
      ],
      "text/plain": [
       "Empty DataFrame\n",
       "Columns: [review_id, star_rating, helpful_votes, total_votes, vine, verified_purchase]\n",
       "Index: []"
      ]
     },
     "execution_count": 11,
     "metadata": {},
     "output_type": "execute_result"
    }
   ],
   "source": [
    "vine_paid"
   ]
  },
  {
   "cell_type": "code",
   "execution_count": 8,
   "metadata": {},
   "outputs": [],
   "source": [
    "#Create a dataframe with unpaid vine reviews\n",
    "vine_unpaid = helpful_votes_50[helpful_votes_50[\"vine\"] == \"N\"]"
   ]
  },
  {
   "cell_type": "code",
   "execution_count": 9,
   "metadata": {},
   "outputs": [
    {
     "name": "stderr",
     "output_type": "stream",
     "text": [
      "C:\\Users\\mitch\\AppData\\Local\\Temp\\ipykernel_4128\\329639365.py:10: RuntimeWarning: invalid value encountered in longlong_scalars\n",
      "  percent_5star_paid = num_5star_paid/num_paid\n"
     ]
    }
   ],
   "source": [
    "#Determine the total number of paid and unpaid reviews\n",
    "num_paid = vine_paid[\"review_id\"].count()\n",
    "num_unpaid = vine_unpaid[\"review_id\"].count()\n",
    "\n",
    "#Determine the number of 5-star paid and unpaid reviews\n",
    "num_5star_paid = vine_paid[vine_paid[\"star_rating\"] == 5][\"review_id\"].count()\n",
    "num_5star_unpaid = vine_unpaid[vine_unpaid[\"star_rating\"] == 5][\"review_id\"].count()\n",
    "\n",
    "#Determine the percentage of 5-star paid and unpaid reviews\n",
    "percent_5star_paid = num_5star_paid/num_paid\n",
    "percent_5star_unpaid = num_5star_unpaid/num_unpaid"
   ]
  },
  {
   "cell_type": "code",
   "execution_count": 10,
   "metadata": {},
   "outputs": [
    {
     "name": "stdout",
     "output_type": "stream",
     "text": [
      "Total number of paid reviews: 0\n",
      "Total number of unpaid reviews: 4532\n",
      "Total number of 5-star paid reviews: 0\n",
      "Total number of 5-star unpaid reviews: 2507\n",
      "Percentage of 5-star paid reviews: nan\n",
      "Percentage of 5-star unpaid reviews: 0.5531774051191527\n"
     ]
    }
   ],
   "source": [
    "print(f\"Total number of paid reviews: {num_paid}\")\n",
    "print(f\"Total number of unpaid reviews: {num_unpaid}\")\n",
    "print(f\"Total number of 5-star paid reviews: {num_5star_paid}\")\n",
    "print(f\"Total number of 5-star unpaid reviews: {num_5star_unpaid}\")\n",
    "print(f\"Percentage of 5-star paid reviews: {percent_5star_paid}\")\n",
    "print(f\"Percentage of 5-star unpaid reviews: {percent_5star_unpaid}\")"
   ]
  },
  {
   "cell_type": "code",
   "execution_count": null,
   "metadata": {},
   "outputs": [],
   "source": []
  }
 ],
 "metadata": {
  "kernelspec": {
   "display_name": "base",
   "language": "python",
   "name": "python3"
  },
  "language_info": {
   "codemirror_mode": {
    "name": "ipython",
    "version": 3
   },
   "file_extension": ".py",
   "mimetype": "text/x-python",
   "name": "python",
   "nbconvert_exporter": "python",
   "pygments_lexer": "ipython3",
   "version": "3.9.15"
  },
  "orig_nbformat": 4,
  "vscode": {
   "interpreter": {
    "hash": "335ee12212264728feb72f243af72c5a8ea26c832f07e1f651ce9e17c7ceae23"
   }
  }
 },
 "nbformat": 4,
 "nbformat_minor": 2
}
