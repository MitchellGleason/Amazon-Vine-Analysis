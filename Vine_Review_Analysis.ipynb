{
 "cells": [
  {
   "cell_type": "code",
   "execution_count": 1,
   "metadata": {},
   "outputs": [],
   "source": [
    "#Import dependencies\n",
    "import pandas as pd"
   ]
  },
  {
   "cell_type": "code",
   "execution_count": 2,
   "metadata": {},
   "outputs": [],
   "source": [
    "#Read in the data\n",
    "df = pd.read_csv(\"vine_table.csv\")"
   ]
  },
  {
   "cell_type": "code",
   "execution_count": 3,
   "metadata": {},
   "outputs": [],
   "source": [
    "#Create a dataframe with total_votes greater than or equal to 20\n",
    "total_votes_20 = df[df[\"total_votes\"] >= 20]"
   ]
  },
  {
   "cell_type": "code",
   "execution_count": 5,
   "metadata": {},
   "outputs": [],
   "source": [
    "#Create a dataframe with helpful_votes greater than or equal to 50%\n",
    "helpful_votes_50 = total_votes_20[total_votes_20[\"helpful_votes\"]/total_votes_20[\"total_votes\"] >= 0.5]"
   ]
  },
  {
   "cell_type": "code",
   "execution_count": 7,
   "metadata": {},
   "outputs": [],
   "source": [
    "#Create a dataframe with paid vine reviews\n",
    "vine_paid = helpful_votes_50[helpful_votes_50[\"vine\"] == \"Y\"]"
   ]
  },
  {
   "cell_type": "code",
   "execution_count": 11,
   "metadata": {},
   "outputs": [
    {
     "data": {
      "text/html": [
       "<div>\n",
       "<style scoped>\n",
       "    .dataframe tbody tr th:only-of-type {\n",
       "        vertical-align: middle;\n",
       "    }\n",
       "\n",
       "    .dataframe tbody tr th {\n",
       "        vertical-align: top;\n",
       "    }\n",
       "\n",
       "    .dataframe thead th {\n",
       "        text-align: right;\n",
       "    }\n",
       "</style>\n",
       "<table border=\"1\" class=\"dataframe\">\n",
       "  <thead>\n",
       "    <tr style=\"text-align: right;\">\n",
       "      <th></th>\n",
       "      <th>review_id</th>\n",
       "      <th>star_rating</th>\n",
       "      <th>helpful_votes</th>\n",
       "      <th>total_votes</th>\n",
       "      <th>vine</th>\n",
       "      <th>verified_purchase</th>\n",
       "    </tr>\n",
       "  </thead>\n",
       "  <tbody>\n",
       "  </tbody>\n",
       "</table>\n",
       "</div>"
      ],
      "text/plain": [
       "Empty DataFrame\n",
       "Columns: [review_id, star_rating, helpful_votes, total_votes, vine, verified_purchase]\n",
       "Index: []"
      ]
     },
     "execution_count": 11,
     "metadata": {},
     "output_type": "execute_result"
    }
   ],
   "source": [
    "vine_paid"
   ]
  },
  {
   "cell_type": "code",
   "execution_count": 8,
   "metadata": {},
   "outputs": [],
   "source": [
    "#Create a dataframe with unpaid vine reviews\n",
    "vine_unpaid = helpful_votes_50[helpful_votes_50[\"vine\"] == \"N\"]"
   ]
  },
  {
   "cell_type": "code",
   "execution_count": 9,
   "metadata": {},
   "outputs": [
    {
     "name": "stderr",
     "output_type": "stream",
     "text": [
      "C:\\Users\\mitch\\AppData\\Local\\Temp\\ipykernel_4128\\329639365.py:10: RuntimeWarning: invalid value encountered in longlong_scalars\n",
      "  percent_5star_paid = num_5star_paid/num_paid\n"
     ]
    }
   ],
   "source": [
    "#Determine the total number of paid and unpaid reviews\n",
    "num_paid = vine_paid[\"review_id\"].count()\n",
    "num_unpaid = vine_unpaid[\"review_id\"].count()\n",
    "\n",
    "#Determine the number of 5-star paid and unpaid reviews\n",
    "num_5star_paid = vine_paid[vine_paid[\"star_rating\"] == 5][\"review_id\"].count()\n",
    "num_5star_unpaid = vine_unpaid[vine_unpaid[\"star_rating\"] == 5][\"review_id\"].count()\n",
    "\n",
    "#Determine the percentage of 5-star paid and unpaid reviews\n",
    "percent_5star_paid = num_5star_paid/num_paid\n",
    "percent_5star_unpaid = num_5star_unpaid/num_unpaid"
   ]
  },
  {
   "cell_type": "code",
   "execution_count": 10,
   "metadata": {},
   "outputs": [
    {
     "name": "stdout",
     "output_type": "stream",
     "text": [
      "Total number of paid reviews: 0\n",
      "Total number of unpaid reviews: 4532\n",
      "Total number of 5-star paid reviews: 0\n",
      "Total number of 5-star unpaid reviews: 2507\n",
      "Percentage of 5-star paid reviews: nan\n",
      "Percentage of 5-star unpaid reviews: 0.5531774051191527\n"
     ]
    }
   ],
   "source": [
    "print(f\"Total number of paid reviews: {num_paid}\")\n",
    "print(f\"Total number of unpaid reviews: {num_unpaid}\")\n",
    "print(f\"Total number of 5-star paid reviews: {num_5star_paid}\")\n",
    "print(f\"Total number of 5-star unpaid reviews: {num_5star_unpaid}\")\n",
    "print(f\"Percentage of 5-star paid reviews: {percent_5star_paid}\")\n",
    "print(f\"Percentage of 5-star unpaid reviews: {percent_5star_unpaid}\")"
   ]
  },
  {
   "cell_type": "code",
   "execution_count": null,
   "metadata": {},
   "outputs": [],
   "source": []
  }
 ],
 "metadata": {
  "kernelspec": {
   "display_name": "base",
   "language": "python",
   "name": "python3"
  },
  "language_info": {
   "codemirror_mode": {
    "name": "ipython",
    "version": 3
   },
   "file_extension": ".py",
   "mimetype": "text/x-python",
   "name": "python",
   "nbconvert_exporter": "python",
   "pygments_lexer": "ipython3",
   "version": "3.9.15"
  },
  "orig_nbformat": 4,
  "vscode": {
   "interpreter": {
    "hash": "335ee12212264728feb72f243af72c5a8ea26c832f07e1f651ce9e17c7ceae23"
   }
  }
 },
 "nbformat": 4,
 "nbformat_minor": 2
}
